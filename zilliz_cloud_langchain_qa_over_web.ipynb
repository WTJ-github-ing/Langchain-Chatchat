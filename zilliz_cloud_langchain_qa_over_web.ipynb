{
 "cells": [
  {
   "cell_type": "code",
   "execution_count": 52,
   "id": "f44bf4d1",
   "metadata": {},
   "outputs": [
    {
     "name": "stdout",
     "output_type": "stream",
     "text": [
      "Requirement already satisfied: pymilvus in /home/zilliz/anaconda3/envs/milEnv/lib/python3.10/site-packages (2.2.15)\n",
      "Requirement already satisfied: langchain in /home/zilliz/anaconda3/envs/milEnv/lib/python3.10/site-packages (0.0.260)\n",
      "Requirement already satisfied: openai in /home/zilliz/anaconda3/envs/milEnv/lib/python3.10/site-packages (0.27.8)\n",
      "Requirement already satisfied: tiktoken in /home/zilliz/anaconda3/envs/milEnv/lib/python3.10/site-packages (0.4.0)\n",
      "Requirement already satisfied: grpcio<=1.56.0,>=1.49.1 in /home/zilliz/anaconda3/envs/milEnv/lib/python3.10/site-packages (from pymilvus) (1.53.0)\n",
      "Requirement already satisfied: protobuf>=3.20.0 in /home/zilliz/anaconda3/envs/milEnv/lib/python3.10/site-packages (from pymilvus) (4.23.3)\n",
      "Requirement already satisfied: environs<=9.5.0 in /home/zilliz/anaconda3/envs/milEnv/lib/python3.10/site-packages (from pymilvus) (9.5.0)\n",
      "Requirement already satisfied: ujson>=2.0.0 in /home/zilliz/anaconda3/envs/milEnv/lib/python3.10/site-packages (from pymilvus) (5.8.0)\n",
      "Requirement already satisfied: pandas>=1.2.4 in /home/zilliz/anaconda3/envs/milEnv/lib/python3.10/site-packages (from pymilvus) (2.0.2)\n",
      "Requirement already satisfied: PyYAML>=5.3 in /home/zilliz/anaconda3/envs/milEnv/lib/python3.10/site-packages (from langchain) (6.0)\n",
      "Requirement already satisfied: SQLAlchemy<3,>=1.4 in /home/zilliz/anaconda3/envs/milEnv/lib/python3.10/site-packages (from langchain) (2.0.19)\n",
      "Requirement already satisfied: aiohttp<4.0.0,>=3.8.3 in /home/zilliz/anaconda3/envs/milEnv/lib/python3.10/site-packages (from langchain) (3.8.5)\n",
      "Requirement already satisfied: async-timeout<5.0.0,>=4.0.0 in /home/zilliz/anaconda3/envs/milEnv/lib/python3.10/site-packages (from langchain) (4.0.2)\n",
      "Requirement already satisfied: dataclasses-json<0.6.0,>=0.5.7 in /home/zilliz/anaconda3/envs/milEnv/lib/python3.10/site-packages (from langchain) (0.5.14)\n",
      "Requirement already satisfied: langsmith<0.1.0,>=0.0.11 in /home/zilliz/anaconda3/envs/milEnv/lib/python3.10/site-packages (from langchain) (0.0.19)\n",
      "Requirement already satisfied: numexpr<3.0.0,>=2.8.4 in /home/zilliz/anaconda3/envs/milEnv/lib/python3.10/site-packages (from langchain) (2.8.5)\n",
      "Requirement already satisfied: numpy<2,>=1 in /home/zilliz/anaconda3/envs/milEnv/lib/python3.10/site-packages (from langchain) (1.25.0)\n",
      "Requirement already satisfied: openapi-schema-pydantic<2.0,>=1.2 in /home/zilliz/anaconda3/envs/milEnv/lib/python3.10/site-packages (from langchain) (1.2.4)\n",
      "Requirement already satisfied: pydantic<2,>=1 in /home/zilliz/anaconda3/envs/milEnv/lib/python3.10/site-packages (from langchain) (1.10.12)\n",
      "Requirement already satisfied: requests<3,>=2 in /home/zilliz/anaconda3/envs/milEnv/lib/python3.10/site-packages (from langchain) (2.31.0)\n",
      "Requirement already satisfied: tenacity<9.0.0,>=8.1.0 in /home/zilliz/anaconda3/envs/milEnv/lib/python3.10/site-packages (from langchain) (8.2.2)\n",
      "Requirement already satisfied: tqdm in /home/zilliz/anaconda3/envs/milEnv/lib/python3.10/site-packages (from openai) (4.65.0)\n",
      "Requirement already satisfied: regex>=2022.1.18 in /home/zilliz/anaconda3/envs/milEnv/lib/python3.10/site-packages (from tiktoken) (2023.6.3)\n",
      "Requirement already satisfied: attrs>=17.3.0 in /home/zilliz/anaconda3/envs/milEnv/lib/python3.10/site-packages (from aiohttp<4.0.0,>=3.8.3->langchain) (23.1.0)\n",
      "Requirement already satisfied: charset-normalizer<4.0,>=2.0 in /home/zilliz/anaconda3/envs/milEnv/lib/python3.10/site-packages (from aiohttp<4.0.0,>=3.8.3->langchain) (3.2.0)\n",
      "Requirement already satisfied: multidict<7.0,>=4.5 in /home/zilliz/anaconda3/envs/milEnv/lib/python3.10/site-packages (from aiohttp<4.0.0,>=3.8.3->langchain) (6.0.4)\n",
      "Requirement already satisfied: yarl<2.0,>=1.0 in /home/zilliz/anaconda3/envs/milEnv/lib/python3.10/site-packages (from aiohttp<4.0.0,>=3.8.3->langchain) (1.9.2)\n",
      "Requirement already satisfied: frozenlist>=1.1.1 in /home/zilliz/anaconda3/envs/milEnv/lib/python3.10/site-packages (from aiohttp<4.0.0,>=3.8.3->langchain) (1.4.0)\n",
      "Requirement already satisfied: aiosignal>=1.1.2 in /home/zilliz/anaconda3/envs/milEnv/lib/python3.10/site-packages (from aiohttp<4.0.0,>=3.8.3->langchain) (1.3.1)\n",
      "Requirement already satisfied: marshmallow<4.0.0,>=3.18.0 in /home/zilliz/anaconda3/envs/milEnv/lib/python3.10/site-packages (from dataclasses-json<0.6.0,>=0.5.7->langchain) (3.19.0)\n",
      "Requirement already satisfied: typing-inspect<1,>=0.4.0 in /home/zilliz/anaconda3/envs/milEnv/lib/python3.10/site-packages (from dataclasses-json<0.6.0,>=0.5.7->langchain) (0.9.0)\n",
      "Requirement already satisfied: python-dotenv in /home/zilliz/anaconda3/envs/milEnv/lib/python3.10/site-packages (from environs<=9.5.0->pymilvus) (1.0.0)\n",
      "Requirement already satisfied: python-dateutil>=2.8.2 in /home/zilliz/anaconda3/envs/milEnv/lib/python3.10/site-packages (from pandas>=1.2.4->pymilvus) (2.8.2)\n",
      "Requirement already satisfied: pytz>=2020.1 in /home/zilliz/anaconda3/envs/milEnv/lib/python3.10/site-packages (from pandas>=1.2.4->pymilvus) (2023.3)\n",
      "Requirement already satisfied: tzdata>=2022.1 in /home/zilliz/anaconda3/envs/milEnv/lib/python3.10/site-packages (from pandas>=1.2.4->pymilvus) (2023.3)\n",
      "Requirement already satisfied: typing-extensions>=4.2.0 in /home/zilliz/anaconda3/envs/milEnv/lib/python3.10/site-packages (from pydantic<2,>=1->langchain) (4.7.1)\n",
      "Requirement already satisfied: idna<4,>=2.5 in /home/zilliz/anaconda3/envs/milEnv/lib/python3.10/site-packages (from requests<3,>=2->langchain) (3.4)\n",
      "Requirement already satisfied: urllib3<3,>=1.21.1 in /home/zilliz/anaconda3/envs/milEnv/lib/python3.10/site-packages (from requests<3,>=2->langchain) (2.0.4)\n",
      "Requirement already satisfied: certifi>=2017.4.17 in /home/zilliz/anaconda3/envs/milEnv/lib/python3.10/site-packages (from requests<3,>=2->langchain) (2023.7.22)\n",
      "Requirement already satisfied: greenlet!=0.4.17 in /home/zilliz/anaconda3/envs/milEnv/lib/python3.10/site-packages (from SQLAlchemy<3,>=1.4->langchain) (2.0.2)\n",
      "Requirement already satisfied: packaging>=17.0 in /home/zilliz/anaconda3/envs/milEnv/lib/python3.10/site-packages (from marshmallow<4.0.0,>=3.18.0->dataclasses-json<0.6.0,>=0.5.7->langchain) (23.1)\n",
      "Requirement already satisfied: six>=1.5 in /home/zilliz/anaconda3/envs/milEnv/lib/python3.10/site-packages (from python-dateutil>=2.8.2->pandas>=1.2.4->pymilvus) (1.16.0)\n",
      "Requirement already satisfied: mypy-extensions>=0.3.0 in /home/zilliz/anaconda3/envs/milEnv/lib/python3.10/site-packages (from typing-inspect<1,>=0.4.0->dataclasses-json<0.6.0,>=0.5.7->langchain) (1.0.0)\n"
     ]
    }
   ],
   "source": [
    "! python3 -m pip install --upgrade pymilvus langchain openai tiktoken"
   ]
  },
  {
   "cell_type": "code",
   "execution_count": 32,
   "id": "9eb9b49e",
   "metadata": {},
   "outputs": [],
   "source": [
    "from os import environ\n",
    "\n",
    "ZILLIZ_ENDPOINT = \"https://in01-4c18d4ae9d2398b.ali-cn-hangzhou.vectordb.zilliz.com.cn:19530\" # example: \"in01-17f69c292d4a50a.aws-us-west-2.vectordb.zillizcloud.com\"\n",
    "ZILLIZ_USER = \"db_admin\" # cluster 用户名\n",
    "ZILLIZ_PASS = \"xxx\" # 上述用户名对应的密码\n",
    "OPENAI_API_KEY = \"sk-xxxxxxxxxxxxxxxxxxxxxxxxxxxxxxxxxxxxxxxx\" # OpenAI API 密钥, 示例: \"sk-xxxxxxxxxxxxxxxxxxxxxxxxxxxxxxxxxxxxxxxx\"\n",
    "\n",
    "## Set up environment variables\n",
    "environ[\"OPENAI_API_KEY\"] = OPENAI_API_KEY"
   ]
  },
  {
   "cell_type": "code",
   "execution_count": 53,
   "id": "28cd6222",
   "metadata": {},
   "outputs": [],
   "source": [
    "from langchain.embeddings.openai import OpenAIEmbeddings\n",
    "from langchain.vectorstores import Zilliz\n",
    "from langchain.document_loaders import WebBaseLoader\n",
    "from langchain.text_splitter import CharacterTextSplitter\n",
    "\n",
    "# 使用 WebBaseLoader 加载指定的页面\n",
    "loader = WebBaseLoader([\n",
    "    \"https://milvus.io/docs/overview.md\",\n",
    "])\n",
    "\n",
    "docs = loader.load()\n",
    "\n",
    "# 使用文本分割器将文档分割成指定大小的块\n",
    "text_splitter = CharacterTextSplitter(chunk_size=2048, chunk_overlap=0)\n",
    "docs = text_splitter.split_documents(docs)"
   ]
  },
  {
   "cell_type": "code",
   "execution_count": 54,
   "id": "0273ba2b",
   "metadata": {},
   "outputs": [
    {
     "name": "stdout",
     "output_type": "stream",
     "text": [
      "6\n"
     ]
    }
   ],
   "source": [
    "print(len(docs))"
   ]
  },
  {
   "cell_type": "code",
   "execution_count": 55,
   "id": "a8bdcb5c",
   "metadata": {},
   "outputs": [
    {
     "name": "stdout",
     "output_type": "stream",
     "text": [
      "page_content='Introduction Milvus documentationDocsTutorialsToolsBlogCommunityStars0Join SlackTry Managed Milvus FREESearchHomev2.2.x\\u200bAbout MilvusWhat is MilvusMilvus AdoptersMilvus RoadmapMilvus LimitsReleasesEnhancement ProposalsBootcampGet StartedUser GuideAdministration GuideIntegrationsBenchmarksToolsReferenceExample ApplicationsFAQsAPI referenceIntroduction\\nThis page aims to give you an overview of Milvus by answering several questions. After reading this page, you will learn what Milvus is and how it works, as well as the key concepts, why use Milvus, supported indexes and metrics, example applications, the architecture, and relevant tools.\\nWhat is Milvus vector database?\\nMilvus was created in 2019 with a singular goal: store, index, and manage massive embedding vectors generated by deep neural networks and other machine learning (ML) models.\\nAs a database specifically designed to handle queries over input vectors, it is capable of indexing vectors on a trillion scale. Unlike existing relational databases which mainly deal with structured data following a pre-defined pattern, Milvus is designed from the bottom-up to handle embedding vectors converted from unstructured data.\\nAs the Internet grew and evolved, unstructured data became more and more common, including emails, papers, IoT sensor data, Facebook photos, protein structures, and much more. In order for computers to understand and process unstructured data, these are converted into vectors using embedding techniques. Milvus stores and indexes these vectors. Milvus is able to analyze the correlation between two vectors by calculating their similarity distance. If the two embedding vectors are very similar, it means that the original data sources are similar as well.\\n\\nMilvus workflow.' metadata={'source': 'https://milvus.io/docs/overview.md', 'title': 'Introduction Milvus documentation', 'description': 'Milvus is an open-source vector database designed specifically for AI application development, embeddings similarity search, and MLOps v2.2.x.', 'language': 'en'}\n"
     ]
    }
   ],
   "source": [
    "print(docs[0])"
   ]
  },
  {
   "cell_type": "code",
   "execution_count": 56,
   "id": "b3b8e992",
   "metadata": {},
   "outputs": [],
   "source": [
    "# 指定用来将文档转换成对应向量表示的 Embedding 模型\n",
    "embeddings = OpenAIEmbeddings(model=\"text-embedding-ada-002\")\n",
    "\n",
    "# 创建一个向量数据库来保存文档的向量表示。这里我们使用 Zilliz Cloud 来创建该数据库\n",
    "vector_store = Zilliz.from_documents(\n",
    "    docs,\n",
    "    embedding=embeddings,\n",
    "    connection_args={\"uri\": ZILLIZ_ENDPOINT, \"user\": ZILLIZ_USER, \"password\": ZILLIZ_PASS, \"secure\": True}\n",
    ")"
   ]
  },
  {
   "cell_type": "code",
   "execution_count": 59,
   "id": "ffd12dd5",
   "metadata": {},
   "outputs": [
    {
     "name": "stdout",
     "output_type": "stream",
     "text": [
      "Question：What is embedding?\n",
      "\n",
      "Answer： Embedding is a feature abstraction of unstructured data, such as emails, IoT sensor data, Instagram photos, protein structures, and much more, which is used to convert unstructured data to embedding vectors and measure similarities among vectors.\n",
      "SOURCES: https://milvus.io/docs/overview.md\n"
     ]
    }
   ],
   "source": [
    "from langchain.chains.qa_with_sources import load_qa_with_sources_chain\n",
    "from langchain.llms import OpenAI\n",
    "\n",
    "chain = load_qa_with_sources_chain(OpenAI(temperature=0), chain_type=\"map_reduce\", return_intermediate_steps=True)\n",
    "# query = \"What is milvus?\"\n",
    "# query = \"When was milvus created?\"\n",
    "query = \"What is embedding?\"\n",
    "docs = vector_store.similarity_search(query)\n",
    "res = chain({\"input_documents\": docs, \"question\": query}, return_only_outputs=True)\n",
    "print(\"Question：\" + query + \"\\n\")\n",
    "print(\"Answer：\" + res['output_text'])"
   ]
  }
 ],
 "metadata": {
  "kernelspec": {
   "display_name": "Python 3 (ipykernel)",
   "language": "python",
   "name": "python3"
  },
  "language_info": {
   "codemirror_mode": {
    "name": "ipython",
    "version": 3
   },
   "file_extension": ".py",
   "mimetype": "text/x-python",
   "name": "python",
   "nbconvert_exporter": "python",
   "pygments_lexer": "ipython3",
   "version": "3.10.11"
  }
 },
 "nbformat": 4,
 "nbformat_minor": 5
}
